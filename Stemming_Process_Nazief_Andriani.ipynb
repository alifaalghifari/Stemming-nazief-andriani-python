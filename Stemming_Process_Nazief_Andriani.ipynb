{
  "nbformat": 4,
  "nbformat_minor": 0,
  "metadata": {
    "colab": {
      "provenance": [],
      "collapsed_sections": [
        "8WGOkDopi--p"
      ]
    },
    "kernelspec": {
      "name": "python3",
      "display_name": "Python 3"
    },
    "language_info": {
      "name": "python"
    }
  },
  "cells": [
    {
      "cell_type": "code",
      "execution_count": null,
      "metadata": {
        "colab": {
          "base_uri": "https://localhost:8080/"
        },
        "id": "qlAqrmXhL4vK",
        "outputId": "40f5a3b7-f44c-4026-c973-0468d19e811a"
      },
      "outputs": [
        {
          "output_type": "stream",
          "name": "stdout",
          "text": [
            "Looking in indexes: https://pypi.org/simple, https://us-python.pkg.dev/colab-wheels/public/simple/\n",
            "Requirement already satisfied: bs4 in /usr/local/lib/python3.8/dist-packages (0.0.1)\n",
            "Requirement already satisfied: beautifulsoup4 in /usr/local/lib/python3.8/dist-packages (from bs4) (4.6.3)\n"
          ]
        }
      ],
      "source": [
        "# install bs4, lib for get data from HTML\n",
        "\n",
        "%pip install bs4"
      ]
    },
    {
      "cell_type": "code",
      "source": [
        "\n",
        "import urllib.request\n",
        "from bs4 import BeautifulSoup"
      ],
      "metadata": {
        "id": "fTQOm68_McMY"
      },
      "execution_count": null,
      "outputs": []
    },
    {
      "cell_type": "code",
      "source": [
        "%pwd"
      ],
      "metadata": {
        "colab": {
          "base_uri": "https://localhost:8080/",
          "height": 36
        },
        "id": "TeCiRhm7NMi_",
        "outputId": "7c4c3181-c009-4254-9759-76a6ed0edfa4"
      },
      "execution_count": null,
      "outputs": [
        {
          "output_type": "execute_result",
          "data": {
            "text/plain": [
              "'/content'"
            ],
            "application/vnd.google.colaboratory.intrinsic+json": {
              "type": "string"
            }
          },
          "metadata": {},
          "execution_count": 3
        }
      ]
    },
    {
      "cell_type": "code",
      "source": [
        "\n",
        "  \n",
        "# here we have to pass url and path\n",
        "# (where you want to save ur text file)\n",
        "urllib.request.urlretrieve(\"https://bola.kompas.com/read/2022/10/05/07453528/update-tragedi-kanjuruhan-alasan-pintu-tertutup-sanksi-arema-hingga-hasil-rapat?page=all\",\n",
        "                           \"/content/text_file.txt\")\n",
        "\n",
        "  \n",
        "file = open(\"text_file.txt\", \"r\")\n",
        "contents = file.read()\n",
        "soup = BeautifulSoup(contents, 'html.parser')\n",
        "  \n",
        "f = open(\"test1.txt\", \"w\")\n",
        "  \n",
        "# traverse paragraphs from soup\n",
        "for data in soup.find_all(\"p\"):\n",
        "    sum = data.get_text()\n",
        "    f.writelines(sum)\n",
        "\n",
        "  \n",
        "f.close()"
      ],
      "metadata": {
        "id": "qyEGN9_BMnva"
      },
      "execution_count": null,
      "outputs": []
    },
    {
      "cell_type": "code",
      "source": [
        "%ls"
      ],
      "metadata": {
        "colab": {
          "base_uri": "https://localhost:8080/"
        },
        "id": "bxDj4yPkNUfO",
        "outputId": "0b3903ef-e8cb-4597-bf62-89d9d3803cd5"
      },
      "execution_count": null,
      "outputs": [
        {
          "output_type": "stream",
          "name": "stdout",
          "text": [
            "id.stopwords.02.01.2016.txt  \u001b[0m\u001b[01;34msample_data\u001b[0m/  text_file.txt\n",
            "kata-dasar-indonesia.txt     test1.txt\n"
          ]
        }
      ]
    },
    {
      "cell_type": "code",
      "source": [
        "with open('test1.txt') as f:\n",
        "  lines = f.readlines()\n",
        "  print(lines)"
      ],
      "metadata": {
        "colab": {
          "base_uri": "https://localhost:8080/"
        },
        "id": "tm3_t6TwPkgm",
        "outputId": "bca6db47-e9c3-427c-a9dc-ee8cc48d26cb"
      },
      "execution_count": null,
      "outputs": [
        {
          "output_type": "stream",
          "name": "stdout",
          "text": [
            "['Update Tragedi Kanjuruhan: Alasan Pintu Tertutup, Sanksi Arema, hingga Hasil Rapat TGIPFKOMPAS.com -\\xa0Sudah empat hari berlalu, tetapi tragedi Kanjuruhan masih menyisakan pilu. Sudah sejauh mana perkembangan kasus tersebut?Sabtu (1/10/2022) menjadi hari paling kelam dalam sejarah sepak bola Indonesia. Ratusan nyawa melayang dan lainnya luka-luka akibat tragedi Kanjuruhan.Kejadian tragis itu bermila dari pecahnya kerusuhan pasca-laga lanjutan Liga 1 Arema FC vs Persebaya Surabaya di yang berakhir dengan skor 2-3.Oknum suporter Arema FC merangsek masuk ke lapangan tak lama usai wasit meniupkan peluit panjang. Mereka lalu terlibat kericuhan dengan petugas keamanan.Aparat keamanan coba mengendalikan situasi dengan menembakkan gas air mata yang dilarang penggunaannya oleh FIFA.Baca juga: New York Times: Polisi Indonesia Kurang Terlatih Kendalikan Massa di KanjuruhanTembakan gas air mata tersebut disinyalir menjadi penyebab para suporter mengalami sesak napas, hingga menimbulkan korban jiwa.Berdasarkan data Dinas Kesehatan Kabupaten Malang, Jawa Timur, pada Selasa (4/10/2022) pukul 10.00 WIB, korban tewas dalam tragedi Kanjuruhan mencapai 131 orang.Insiden di Stadion Kanjuruhan itu pun menjadi salah satu tragedi terbesar dalam sejarah sepak bola dunia.Berikut Kompas.com sampaikan update terbaru seputar tragedi Kanjuruhan:Berdasarkan laporan dari Kompas TV, seluruh pintu keluar Stadion Kanjuruhan biasanya dibuka ketika pertandingan memasuki menit ke-80.Baca juga: Hasil Rapat Perdana TGIPF, Soal Akar Masalah Tragedi KanjuruhanNamun, saat laga Arema FC vs Persebaya rampung digelar hanya sebagian pintu stadion yang terbuka.\\xa0Ketua Komite Wasit PSSI, Ahmad Riyadh, mengungkapkan alasan kenapa pintu Stadion Kanjuruhan belum terbuka kendati pertandingan sudah selesai.“Pintu tidak dibuka seluruhnya. Ada sebagian dibuka, dan sebagian tidak. Ketepatan komando yang disuruh buka pintu sebelah sana belum melaksanakan tugas. Itu alasannya,” ujar Ahmad Riyadh pada Selasa (4/10/2022), yang dihadiri Kompas.com.\\xa0“Jadi, memang ada fakta juga, jangan terlalu mepet (membuka pintu stadion) dalam statuta 10 menit dari pertandingan akhir,” katanya.“Namun, Panpel melihat situasi di luar stadion yang gerombolan di luar bisa masuk ke dalam stadion dan masuk untuk menonton laga,” kata dia menambahkan.Baca juga: Ketum PSSI: Panpel Bersalah dalam Kerusuhan KanjuruhanOleh sebab itu, Ahmad Riyadh menuturkan bahwa panitia pelaksana mempunyai pertimbangan untuk tidak membuka pintu stadion hingga laga berakhir.“Kadang-kadang itu yang menjadi pertimbangan sehingga terkadang disamakan dengan peluit akhir,” ujar dia.\\xa0“Kadang-kadang juga dua menit akhir baru dibuka. Ini kondisi yang ada di lapangan. Itu yang dinilai investigasi dan bakal menjadi sistem keamanan terbaru dari PSSI dan Polri,” katanya menambahkan.Selasa (4/10/2022), Komdis PSSI telah menyampaikan keputusan sidang yang berisi hukuman untuk Arema FC, ketua panitia pelaksana (panpel), dan petugas keamanan atau security Officer.Baca juga: Hasil Sidang Komdis PSSI soal Tragedi Kanjuruhan: Denda Rp 250 Juta hingga Sanksi Seumur HidupKepastian hukuman untuk ketiga pihak tersebut disampaikan langsung oleh Ketua Komdis PSSI, Erwin Tobing, dalam sesi konferensi pers virtual pada Selasa (4/10/2022).Dalam keterangannya, Erwin menyatakan bahwa Arema FC dilarang menyelenggarakan pertandingan sebagai tuan rumah dengan penonton pada sisa Liga 1 musim 2022-2023.\\xa0Singo Edan juga harus memainkan laga kandang alias home di lokasi yang berjarak 250 km dari markas mereka di Malang.Selain itu, Erwin Tobing mengungkapkan bahwa Arema FC mesti membayar denda senilai Rp 250 juta.\"Dari hasil sidang kami kepada klub Arema FC dan panitia pelaksananya keputusannya adalah dilarang menyelenggarakan pertandingan dengan penonton sebagai tuan rumah dan harus dilaksanakan di tempat yang jauh dari markas Malang. Jaraknya harus 250 km dari lokasi,\" tutur Erwin.Baca juga: Tragedi Kanjuruhan Masuk Tahap Penyidikan, Polisi Segera Tetapkan Tersangka\"Kedua, klub Arema FC dikenakan sanksi denda Rp 250 juta. Ketiga, pengulangan pelanggaran di atas akan mendapatkan hukuman lebih berat kepada klub dan badan pelaksananya,\" ujar Erwin.\\xa0Komdis PSSI juga menjatuhkan hukuman kepada Abdul Haris (Ketua Pelaksana pertandingan) dan Suko Sutrisno (Security Officer). Keduanya dilarang aktif di lingkungan sepak bola selama seumur hidup.Kadiv Humas Polri, Irjen Dedi Presetyo, menyatakan kasus Tragedi Kanjuruhan sudah masuk tahap penyidikan.\\xa0Menurut Irjen Dedi Prasetyo, tim penyidik Tragedi Kanjuruhan sudah memeriksa 29 orang saksi.\\xa0Rincian dari 29 saksi tersebut adalah 23 anggota Polri dan enam orang panitia penyelenggara yang bertugas di Stadion Kanjuruhan saat kejadian.Baca juga: FX Yanuar: Ingin Tinggalkan Sepak Bola Usai Tragedi Kanjuruhan, Dikuatkan Ayah Korban\"Kasus ini sudah tahap penyidikan. Kami masih mengumpulkan alat bukti, keterangan saksi dan ahli, serta petunjuk lainnya,\" kata Dedi dikutip dari Tribun Jatim.\\xa0\"Baru nanti pada saatnya kami akan menetapkan tersangka. Perlu ketelitian dan kehati-hatian sebelum menetapkan tersangka,\" ujar Dedi.\\xa0\"Pemeriksaan untuk panitia penyelenggara akan dilanjutkan esok hari,\" ujar Dedi pada Selasa (4/10/2022).Dok. Kemenpora Tim Gabungan Independen Pencari Fakta (TGIPF) insiden tragis Kanjuruhan sudah menjalani rapat perdana pada Selasa (4/10/2022).Tim Gabungan Independen Pencari Fakta (TGIPF) insiden tragis Kanjuruhan sudah menjalani rapat perdana pada Selasa (4/10/2022).Hasilnya, TGIPF bersepakat untuk segera bekerja dan mencari akar masalah dari tragedi Kanjuruhan yang menurut data terbaru sudah merenggut 131 korban meninggal dunia dan ratusan lainnya menderita luka-luka.\\xa0Baca juga: Jawaban PSSI soal Hukuman Pidana Tragedi KanjuruhanTGIPF juga bakal memberikan rekomendasi untuk menghentikan masalah-masalah yang selalu terjadi dalam persepakbolaan nasional.“Tim akan merekomendasikan penjatuhan sanksi bagi pihak-pihak yang melakukan pelanggaran pada pertandingan antara Arema dan Persebaya di Stadion Kanjuruhan, Malang,\" ucap anggota TGIPF Akmal Marhali kepada Kompas.com.Akmal Marhali juga merekomendasikan sinkronisasi regulasi dalam peraturan FIFA dan perundang-undangan Indonesia.\\xa0Sosialisasi dengan memberikan pemahan kepada seluruh elemen dalam sepak bola soal regulasi ini juga bakal dilakukan.Selanjutnya, untuk hal-hal yang bersifat teknis tim ini akan terus bekerja sesuai rencana yg sedang disusun, dimana teknisnya akan diatur dalam bentuk koordinasi berkesinambungan yang dilakukan oleh sekretaris TGIPF.\\xa0Baca juga: Laga Liga Champions Akan Dibuka Prosesi Mengheningkan Cipta untuk Tragedi Kanjuruhan\"Insya Allah dalam tiga minggu kedepan, tim ini sudah dapat menyampaikan hasil kerjanya kepada Bapak Presiden Joko Widodo dan diharapkan bisa bisa lebih cepat dari target itu,\" kata Akmal.\"TGIPF juga menekankan dan disetujui oleh Menpora bahwa semua kompetisi PSSI (Liga 1, 2 dan 3) dihentikan sementara sampai Presiden Joko Widodo menyatakan bisa dinormalisasi, setelah tim ini menyampaikan rekomendasinya tentang seperti apa pelaksanaan penyelenggaraan dan pengamananan pertandingan yang harus dilakukan,\" pungkasnya.Tulis komentarmu dengan tagar #JernihBerkomentar dan menangkan e-voucher untuk 90 pemenang!Dapatkan informasi dan insight pilihan redaksi Kompas.comPeriksa kembali dan lengkapi data dirimu.Data dirimu akan digunakan untuk verifikasi akun ketika kamu membutuhkan bantuan atau ketika ditemukan aktivitas tidak biasa pada akunmu.Segera lengkapi data dirimu untuk ikutan program #JernihBerkomentar.']\n"
          ]
        }
      ]
    },
    {
      "cell_type": "code",
      "source": [
        "import numpy as np\n",
        "import re"
      ],
      "metadata": {
        "id": "SKw8S3CiQQCl"
      },
      "execution_count": null,
      "outputs": []
    },
    {
      "cell_type": "markdown",
      "source": [
        "#Stemming with nazief and andriani algorithm"
      ],
      "metadata": {
        "id": "9ebe1QlUngeM"
      }
    },
    {
      "cell_type": "markdown",
      "source": [
        "##Tokenizing"
      ],
      "metadata": {
        "id": "YNlsVxAgtXA-"
      }
    },
    {
      "cell_type": "code",
      "source": [
        "def tokenizing(input):\n",
        "  input = input.replace(\".\", \"\")\n",
        "  input = input.replace(\",\", \"\")\n",
        "  input = input.replace(\":\", \"\")\n",
        "  input = input.replace(\"-\", \" \")\n",
        "  input = input.replace(\"?\", \"\")\n",
        "  input = input.replace(\"!\", \"\")\n",
        "  input = input.replace(\"(\", \"\")\n",
        "  input = input.replace(\")\", \"\")\n",
        "  input = input.replace(\"[\", \"\")\n",
        "  input = input.replace(\"]\", \"\")\n",
        "  input = input.replace(\"{\", \"\")\n",
        "  input = input.replace(\"}\", \"\")\n",
        "  input = input.replace(\"'\", \"\")\n",
        "  input = input.replace('\"', \"\")\n",
        "  input = input.replace(\"/\", \"\")\n",
        "  return input"
      ],
      "metadata": {
        "id": "0kefaqnztVwd"
      },
      "execution_count": null,
      "outputs": []
    },
    {
      "cell_type": "markdown",
      "source": [
        "##Stop word"
      ],
      "metadata": {
        "id": "9yWG6GEJwGEv"
      }
    },
    {
      "cell_type": "code",
      "source": [
        "# open stopword\n",
        "\n",
        "def stop_word(word):\n",
        "\n",
        "  f = open('id.stopwords.02.01.2016.txt')\n",
        "  s_word = f.read()\n",
        "\n",
        "  if word not in s_word :\n",
        "    return word\n",
        "  \n",
        "\n",
        "  f.close()\n"
      ],
      "metadata": {
        "id": "QetQNMWZX_Gk"
      },
      "execution_count": null,
      "outputs": []
    },
    {
      "cell_type": "markdown",
      "source": [
        "##Kamus"
      ],
      "metadata": {
        "id": "xTaDk1bm6mhi"
      }
    },
    {
      "cell_type": "code",
      "source": [
        "kamus_clean = []\n",
        "\n",
        "with open('kata-dasar-indonesia.txt') as f:\n",
        "  kamus = f.read()\n",
        "  kamus = kamus.split(' ')\n",
        "\n",
        "  for w in kamus:\n",
        "  \n",
        "    rx = re.findall(r'[^\\n]+$', w)\n",
        "\n",
        "    kamus_clean.append(rx[0])"
      ],
      "metadata": {
        "id": "IVMgcIY8cwIb"
      },
      "execution_count": null,
      "outputs": []
    },
    {
      "cell_type": "code",
      "source": [
        "AKAR_KATA = []\n",
        "\n",
        "def kamus_word(word='tes'):\n",
        "  \n",
        "    # kamus = map(clean_word, kamus)\n",
        "    if word in kamus_clean:\n",
        "      AKAR_KATA.append(word)\n",
        "      return None\n",
        "    return word\n"
      ],
      "metadata": {
        "id": "RhOb0Xmc7tvf"
      },
      "execution_count": null,
      "outputs": []
    },
    {
      "cell_type": "markdown",
      "source": [
        "##Hapus infleksional suffiks"
      ],
      "metadata": {
        "id": "GRwfMGw-jc7K"
      }
    },
    {
      "cell_type": "code",
      "source": [
        "def hapus_infleksional_suffiks(word):\n",
        "  # akhiran -lah, -kah, -nya, -tah, -pun\n",
        "  if word.endswith('lah') or word.endswith('kah') or word.endswith('nya') or word.endswith('tah') or word.endswith('pun'):\n",
        "    word = word[0 : len(word) - 3]\n",
        "    \n",
        "    # check if word exist in kamus\n",
        "    word_check = kamus_word(word)\n",
        " \n",
        "    return word_check\n",
        "\n",
        "  # akhiran -ku, -mu\n",
        "  elif word.endswith('ku') or word.endswith('mu'):\n",
        "    word = word[0 : len(word) - 2]\n",
        "\n",
        "    # check if word exist in kamus\n",
        "    word_check = kamus_word(word)\n",
        "    return word_check\n",
        "    \n",
        "  return word"
      ],
      "metadata": {
        "id": "2GDyagXwignB"
      },
      "execution_count": null,
      "outputs": []
    },
    {
      "cell_type": "markdown",
      "source": [
        "##Hapus derivation suffixes"
      ],
      "metadata": {
        "id": "tqIWdFoBg8dy"
      }
    },
    {
      "cell_type": "code",
      "source": [
        "def hapus_derivation_suffiks(word):\n",
        "    # akhiran kan\n",
        "  if word.endswith('kan'):\n",
        "    word = word[0 : len(word) - 3]\n",
        "\n",
        "    # check if word exist in kamus\n",
        "    word_check = kamus_word(word)\n",
        "    return word_check\n",
        "\n",
        "  # akhiran i\n",
        "  if word.endswith('i'):\n",
        "    word = word[0 : len(word) - 1]\n",
        "\n",
        "    # check if word exist in kamus\n",
        "    word_check = kamus_word(word)\n",
        "    return word_check\n",
        "\n",
        "  # akhiran an\n",
        "  if word.endswith('an'):\n",
        "    word = word[0 : len(word) - 2]\n",
        "\n",
        "    # check if word exist in kamus\n",
        "    word_check = kamus_word(word)\n",
        "    return word_check\n",
        "\n",
        "\n",
        "  return word"
      ],
      "metadata": {
        "id": "SKSfC0WwhFI0"
      },
      "execution_count": null,
      "outputs": []
    },
    {
      "cell_type": "markdown",
      "source": [
        "##Hapus derivation prefiks"
      ],
      "metadata": {
        "id": "6HALLYvvltSR"
      }
    },
    {
      "cell_type": "code",
      "source": [
        "def hapus_derivation_prefiks(word):\n",
        "  # awalan mempel-\n",
        "  if (word.startswith('mempel')) and (len(word) > 6):\n",
        "    sub_word = word[6:]\n",
        "    # check if word exist in kamus\n",
        "    word_check = kamus_word(sub_word)\n",
        "    if word_check != None:    \n",
        "      # check word in derivation suffiks\n",
        "      word_pref_suff = hapus_derivation_suffiks(word_check)\n",
        "\n",
        "      # check word again in kamus\n",
        "      word_check = kamus_word(word_pref_suff)\n",
        "      return word_check\n",
        "      \n",
        "    return word_check\n",
        "  \n",
        "  # awalan memper-\n",
        "  if (word.startswith('memper')) and (len(word) > 6):\n",
        "    sub_word = word[6:]\n",
        "    # check if word exist in kamus\n",
        "    word_check = kamus_word(sub_word)\n",
        "    if word_check != None:  \n",
        "      \n",
        "      # check word in derivation suffiks\n",
        "      word_pref_suff = hapus_derivation_suffiks(word_check)\n",
        "\n",
        "      # check word again in kamus\n",
        "      word_check = kamus_word(word_pref_suff)\n",
        "      return word_check\n",
        "\n",
        "    return word_check\n",
        "\n",
        "  # awalan diper-, keber-, keter-\n",
        "  if (word.startswith('diper') or word.startswith('keber') or word.startswith('keter')) and (len(word) > 5):\n",
        "    sub_word = word[5:]\n",
        "    # check if word exist in kamus\n",
        "    word_check = kamus_word(sub_word)\n",
        "    if word_check != None:  \n",
        "\n",
        "      # check word in derivation suffiks\n",
        "      word_pref_suff = hapus_derivation_suffiks(word_check)\n",
        "\n",
        "      # check word again in kamus\n",
        "      word_check = kamus_word(word_pref_suff)\n",
        "      return word_check\n",
        "    return word_check\n",
        "\n",
        "  # awalan meng-, peng-\n",
        "  if (word.startswith('meng') or word.startswith('peng')) and (len(word) > 4):\n",
        "    sub_word = word[4:]\n",
        "    # check if word exist in kamus\n",
        "    word_check = kamus_word(sub_word)\n",
        "    if word_check != None:  \n",
        "      # check word in derivation suffiks\n",
        "      word_pref_suff = hapus_derivation_suffiks(word_check)\n",
        "      # check word again in kamus\n",
        "      word_check = kamus_word(word_pref_suff)\n",
        "\n",
        "      if word_check != None:  \n",
        "        # add 'k' in front word\n",
        "        sub_word = 'k' + word_check\n",
        "\n",
        "        # check word again in kamus\n",
        "        word_check = kamus_word(sub_word)\n",
        "\n",
        "        if word_check != None:  \n",
        "          # check word in derivation suffiks\n",
        "          word_pref_suff_k = hapus_derivation_suffiks(word_check)\n",
        "\n",
        "          # check word again in kamus after add k in front\n",
        "          word_check = kamus_word(word_pref_suff_k)\n",
        "          return word_check\n",
        "    \n",
        "    return word_check\n",
        "\n",
        "  # awalan meny-, peny-\n",
        "  if (word.startswith('meny') or word.startswith('peny')) and (len(word) > 4):\n",
        "    sub_word = word[4:]\n",
        "    # check if word exist in kamus\n",
        "    word_check = kamus_word(sub_word)\n",
        "    if word_check != None:  \n",
        "      word_pref_suff = hapus_derivation_suffiks(word_check)\n",
        "\n",
        "      # check word again in kamus\n",
        "      word_check = kamus_word(word_pref_suff)\n",
        "      if word_check != None:  \n",
        "\n",
        "        # add 's' in front word\n",
        "        sub_word = 's' + word_check\n",
        "\n",
        "        # check word again in kamus\n",
        "        word_check = kamus_word(sub_word)\n",
        "        if word_check != None:  \n",
        "          # check word in derivation suffiks\n",
        "          word_pref_suff_s = hapus_derivation_suffiks(word_check)\n",
        "\n",
        "          # check word again in kamus after add s in front\n",
        "          word_check = kamus_word(word_pref_suff_s)\n",
        "          return word_check\n",
        "    return word_check\n",
        "\n",
        "  # awalan mel-, mer-, pel-, per-\n",
        "  if (word.startswith('mel') or word.startswith('mer') or word.startswith('pel') or word.startswith('per')) and (len(word) > 3):\n",
        "    sub_word = word[3:]\n",
        "    # check if word exist in kamus\n",
        "    word_check = kamus_word(sub_word)\n",
        "    if word_check != None:  \n",
        "      # check word in derivation suffiks\n",
        "      word_pref_suff = hapus_derivation_suffiks(word_check)\n",
        "\n",
        "      # check word again in kamus\n",
        "      word_check = kamus_word(word_pref_suff)\n",
        "      return word_check\n",
        "    return word_check\n",
        "\n",
        "  # awalan men-, pen-\n",
        "  if (word.startswith('men') or word.startswith('pen')) and (len(word) > 3):\n",
        "    sub_word = word[3:]\n",
        "    # check if word exist in kamus\n",
        "    word_check = kamus_word(sub_word)\n",
        "    if word_check != None:  \n",
        "      # check word in derivation suffiks\n",
        "      word_pref_suff = hapus_derivation_suffiks(word_check)\n",
        "\n",
        "      # check word again in kamus\n",
        "      word_check = kamus_word(word_pref_suff)\n",
        "      if word_check != None:  \n",
        "        # add 's' in front word\n",
        "        sub_word = 't' + word_check\n",
        "\n",
        "        # check word again in kamus\n",
        "        word_check = kamus_word(sub_word)\n",
        "        \n",
        "        if word_check != None:  \n",
        "          # check word in derivation suffiks\n",
        "          word_pref_suff_t = hapus_derivation_suffiks(word_check)\n",
        "\n",
        "          # check word again in kamus after add s in front\n",
        "          word_check = kamus_word(word_pref_suff_t)\n",
        "          return word_check\n",
        "    return word_check\n",
        "\n",
        "    \n",
        "  # awalan mem-, pem-\n",
        "  if (word.startswith('mem') or word.startswith('pem')) and (len(word) > 3):\n",
        "    sub_word = word[3:]\n",
        "    # check if word exist in kamus\n",
        "    word_check = kamus_word(sub_word)\n",
        "    if word_check != None:  \n",
        "      # check word in derivation suffiks\n",
        "      word_pref_suff = hapus_derivation_suffiks(word_check)\n",
        "\n",
        "      # check word again in kamus\n",
        "      word_check = kamus_word(word_pref_suff)\n",
        "      if word_check != None:  \n",
        "        # add 's' in front word\n",
        "        sub_word = 'p' + word_check\n",
        "\n",
        "        # check word again in kamus\n",
        "        word_check = kamus_word(sub_word)\n",
        "        \n",
        "        if word_check != None:     \n",
        "          # check word in derivation suffiks\n",
        "          word_pref_suff_p = hapus_derivation_suffiks(word_check)\n",
        "\n",
        "          # check word again in kamus after add s in front\n",
        "          word_check = kamus_word(word_pref_suff_p)\n",
        "          return word_check\n",
        "    return word_check\n",
        "  # awalan bel-, ber-, tel-, ter-\n",
        "  if (word.startswith('bel') or word.startswith('ber') or word.startswith('tel') or word.startswith('ter')) and (len(word) > 3):\n",
        "    sub_word = word[3:]\n",
        "    # check if word exist in kamus\n",
        "    word_check = kamus_word(sub_word)\n",
        "    if word_check != None:  \n",
        "      # check word in derivation suffiks\n",
        "      word_pref_suff = hapus_derivation_suffiks(word_check)\n",
        "\n",
        "      # check word again in kamus\n",
        "      word_check = kamus_word(word_pref_suff)\n",
        "      return word_check\n",
        "\n",
        "    return word_check\n",
        "\n",
        "  # tipe awalan ke 1 : di-, ke-, se-\n",
        "  if (word.startswith('di') or word.startswith('ke') or word.startswith('se')) and (len(word) > 2):\n",
        "    sub_word = word[2:]\n",
        "    # check if word exist in kamus\n",
        "    word_check = kamus_word(sub_word)\n",
        "    if word_check != None:\n",
        "      # check word in derivation suffiks\n",
        "      word_pref_suff = hapus_derivation_suffiks(word_check)\n",
        "\n",
        "      # check word again in kamus\n",
        "      word_check = kamus_word(word_pref_suff)\n",
        "      return word_check\n",
        "    return word_check\n",
        "\n",
        "\n",
        "  # tipe awalan ke 2 : be-, te-\n",
        "  if (word.startswith('be') or word.startswith('te')) and (len(word) > 2):\n",
        "    sub_word = word[2:]\n",
        "    # check if word exist in kamus\n",
        "    word_check = kamus_word(sub_word)\n",
        "    if word_check != None:  \n",
        "      # check word in derivation suffiks\n",
        "      word_pref_suff = hapus_derivation_suffiks(word_check)\n",
        "\n",
        "      # check word again in kamus\n",
        "      word_check = kamus_word(word_pref_suff)\n",
        "      return word_check\n",
        "\n",
        "    return word_check\n",
        "\n",
        "  # tipe awalan ke 3 : me-, pe-\n",
        "  if (word.startswith('me') or word.startswith('pe')) and (len(word) > 2):\n",
        "    sub_word = word[2:]\n",
        "    # check if word exist in kamus\n",
        "    word_check = kamus_word(sub_word)\n",
        "\n",
        "    if word_check != None:  \n",
        "      # check word in derivation suffiks\n",
        "      word_pref_suff = hapus_derivation_suffiks(word_check)\n",
        "\n",
        "      # check word again in kamus\n",
        "      word_check = kamus_word(word_pref_suff)\n",
        "      return word_check\n",
        "\n",
        "    return word_check\n",
        "\n"
      ],
      "metadata": {
        "id": "f2_iSdTkl0H4"
      },
      "execution_count": null,
      "outputs": []
    },
    {
      "cell_type": "markdown",
      "source": [
        "## Main"
      ],
      "metadata": {
        "id": "7qP6uDRy7p3-"
      }
    },
    {
      "cell_type": "code",
      "source": [
        "with open('test1.txt') as f:\n",
        "  words = f.read()\n",
        "  # print(f'jumlah kata awal : {len(words)}')\n",
        "\n",
        "  # lower words\n",
        "  words = words.lower()\n",
        "\n",
        "  # tokenizing\n",
        "  words = tokenizing(words)\n",
        "  # print(f'jumlah kata setelah tokenizing : {len(words)}')\n",
        "\n",
        "  # split words\n",
        "  words = words.split(' ')\n",
        "  print(f'jumlah kata awal : {len(words)}')\n",
        "\n",
        "\n",
        "  list_stop_words = []\n",
        "  # stop word\n",
        "  for w in words:\n",
        "    word = stop_word(w)\n",
        "    if word != None:\n",
        "      list_stop_words.append(word)\n",
        "\n",
        "  print(f'jumlah kata setelah stop word : {len(list_stop_words)}')\n",
        "\n",
        "  list_not_in_kamus_words = []\n",
        "  # kamus word\n",
        "  for w in list_stop_words:\n",
        "    word = kamus_word(w)\n",
        "    if word != None:\n",
        "      list_not_in_kamus_words.append(word)\n",
        "  \n",
        "  print(f'jumlah kata setelah kamus : {len(list_not_in_kamus_words)}')\n",
        "  print(f'Akar kata {len(AKAR_KATA)}')\n",
        "\n",
        "  # hapus infleksional suffiks\n",
        "  list_not_infleksional_suffiks = []\n",
        "\n",
        "  for w in list_not_in_kamus_words:\n",
        "    word = hapus_infleksional_suffiks(w)\n",
        "    if word != None:\n",
        "      list_not_infleksional_suffiks.append(word)\n",
        "  \n",
        "  print(f'jumlah kata setelah infleksional suffiks : {len(list_not_infleksional_suffiks)}')\n",
        "  print(f'Akar kata {len(AKAR_KATA)}')\n",
        "\n",
        "  # hapus derivation suffiks\n",
        "  list_not_derivation_suffiks = []\n",
        "\n",
        "  for w in list_not_infleksional_suffiks:\n",
        "    word = hapus_derivation_suffiks(w)\n",
        "    if word != None:\n",
        "      list_not_derivation_suffiks.append(word) \n",
        "  \n",
        "  print(f'jumlah kata setelah derivation suffiks : {len(list_not_derivation_suffiks)}')\n",
        "  print(f'Akar kata {len(AKAR_KATA)}')\n",
        "\n",
        "  # hapus derivation prefix\n",
        "  list_not_in_kamus = []\n",
        "\n",
        "  for w in list_not_derivation_suffiks:\n",
        "    word = hapus_derivation_prefiks(w)\n",
        "    if word != None:\n",
        "      list_not_in_kamus.append(word)\n",
        "\n",
        "  print(f'jumlah kata setelah derivation prefiks : {len(list_not_in_kamus)}')\n",
        "  print(f'Akar kata {len(AKAR_KATA)}')\n",
        "\n",
        "  print(f'Kata yang tak ada di kamus {list_not_in_kamus}')\n"
      ],
      "metadata": {
        "colab": {
          "base_uri": "https://localhost:8080/"
        },
        "id": "R473mDjbsmkL",
        "outputId": "080b6693-1a88-427c-a6a0-1a3f3da47b8a"
      },
      "execution_count": null,
      "outputs": [
        {
          "output_type": "stream",
          "name": "stdout",
          "text": [
            "jumlah kata awal : 991\n",
            "jumlah kata setelah stop word : 609\n",
            "jumlah kata setelah kamus : 399\n",
            "Akar kata 210\n",
            "jumlah kata setelah infleksional suffiks : 391\n",
            "Akar kata 218\n",
            "jumlah kata setelah derivation suffiks : 361\n",
            "Akar kata 248\n",
            "jumlah kata setelah derivation prefiks : 43\n",
            "Akar kata 378\n",
            "Kata yang tak ada di kamus ['sebutsabtu', 'ayang', 'mila', 'sebaya', 'angsek', 'amananaparat', 'sebaya', 'buka\\xa0ketua', 'lesai“pintu', 'be', 'aksana', 'tambahkanbaca', 'aksana', 'akhir“kadang', 'a\\xa0“kadang', 'tambahkanselasa', 'is', 'aksana', 'curity', 'ang', 'aksana', 'sangkakedua', 'aksana', 'aksana', 'curity', 'sidikan\\xa0menurut', 'jadianbaca', 'ang', 'hat', 'menpora', 'tcar', 'enggut', 'sepakbola', 'ekomendas', 'sebaya', 'ekomendas', 'lakukanselanjut', 'kesinambung', 'setuju', 'normalisas', 'aksana', 'penangdapat', 'rimudata']\n"
          ]
        }
      ]
    },
    {
      "cell_type": "code",
      "source": [
        "print(AKAR_KATA)\n",
        "print(len(AKAR_KATA))"
      ],
      "metadata": {
        "id": "VKoY8o3bh9Ki",
        "colab": {
          "base_uri": "https://localhost:8080/"
        },
        "outputId": "95d22411-b46d-47bd-eb4a-41daed628c3e"
      },
      "execution_count": null,
      "outputs": [
        {
          "output_type": "stream",
          "name": "stdout",
          "text": [
            "['tragedi', 'pintu', 'sanksi', 'hasil', 'rapat', 'tragedi', 'pilu', 'sejarah', 'sepak', 'bola', 'nyawa', 'akibat', 'tragedi', 'tragis', 'laga', 'liga', 'skor', 'suporter', 'wasit', 'peluit', 'coba', 'situasi', 'air', 'polisi', 'massa', 'air', 'suporter', 'sesak', 'napas', 'korban', 'kabupaten', 'malang', 'timur', 'korban', 'tewas', 'tragedi', 'stadion', 'tragedi', 'sejarah', 'sepak', 'bola', 'tragedi', 'kompas', 'pintu', 'stadion', 'menit', 'hasil', 'rapat', 'perdana', 'akar', 'tragedi', 'laga', 'rampung', 'pintu', 'stadion', 'komite', 'wasit', 'pintu', 'stadion', 'kendati', 'komando', 'pintu', 'tugas', 'fakta', 'mepet', 'pintu', 'stadion', 'statuta', 'menit', 'situasi', 'stadion', 'stadion', 'panitia', 'pintu', 'stadion', 'laga', 'kadang', 'peluit', 'kadang', 'menit', 'kondisi', 'investigasi', 'sistem', 'sidang', 'ketua', 'panitia', 'hasil', 'sidang', 'tragedi', 'denda', 'juta', 'sanksi', 'ketua', 'sesi', 'konferensi', 'virtual', 'tuan', 'rumah', 'sisa', 'liga', 'musim', 'laga', 'kandang', 'alias', 'lokasi', 'markas', 'mesti', 'denda', 'hasil', 'sidang', 'klub', 'panitia', 'tuan', 'rumah', 'markas', 'malang', 'lokasi', 'tragedi', 'tahap', 'polisi', 'klub', 'sanksi', 'denda', 'juta', 'berat', 'klub', 'badan', 'haris', 'ketua', 'aktif', 'sepak', 'bola', 'humas', 'tragedi', 'tahap', 'tim', 'tragedi', 'saksi', 'anggota', 'panitia', 'stadion', 'sepak', 'bola', 'tragedi', 'ayah', 'tahap', 'alat', 'bukti', 'saksi', 'ahli', 'panitia', 'esok', 'tim', 'independen', 'fakta', 'insiden', 'tragis', 'rapat', 'perdana', 'independen', 'fakta', 'insiden', 'tragis', 'rapat', 'perdana', 'akar', 'tragedi', 'korban', 'dunia', 'pidana', 'tragedi', 'rekomendasi', 'sanksi', 'stadion', 'malang', 'anggota', 'akmal', 'sinkronisasi', 'regulasi', 'elemen', 'sepak', 'bola', 'regulasi', 'teknis', 'tim', 'rencana', 'bentuk', 'koordinasi', 'sekretaris', 'laga', 'liga', 'prosesi', 'cipta', 'tragedi', 'tim', 'hasil', 'presiden', 'cepat', 'target', 'kompetisi', 'liga', 'presiden', 'tim', 'tagar', 'informasi', 'redaksi', 'verifikasi', 'akun', 'aktivitas', 'program', 'pecah', 'jarak', 'teknis', 'kerja', 'rekomendasi', 'komentar', 'diri', 'diri', 'alas', 'ratus', 'lanjut', 'lapang', 'kendali', 'lapor', 'alas', 'gerombol', 'lapang', 'hukum', 'hukum', 'tetap', 'hukum', 'hukum', 'lingkung', 'tinggal', 'hati', 'gabung', 'pencar', 'gabung', 'pencar', 'ratus', 'hukum', 'undang', 'menang', 'pilih', 'lengkap', 'bantu', 'lengkap', 'ikut', 'tutup', 'sisa', 'kembang', 'rusuh', 'tiup', 'libat', 'ricuh', 'tugas', 'aman', 'endal', 'embak', 'larang', 'guna', 'latih', 'sinyalir', 'sebab', 'alam', 'timbul', 'nas', 'sehat', 'lasa', 'capa', 'besar', 'baru', 'putar', 'buka', 'tanding', 'pasuk', 'gelar', 'buka', 'tanding', 'buka', 'buka', 'tepat', 'suruh', 'lasa', 'hadir', 'buka', 'tanding', 'tonton', 'tum', 'sa', 'rusuh', 'timbang', 'buka', 'timbang', 'kadang', 'sama', 'buka', 'nila', 'aman', 'baru', 'putus', 'tugas', 'aman', 'umur', 'tiga', 'lasa', 'larang', 'selenggara', 'tanding', 'tonton', 'ain', 'jarak', 'bayar', 'nila', 'putus', 'larang', 'selenggara', 'tanding', 'tonton', 'laksana', 'id', 'kena', 'tiga', 'ulang', 'anggar', 'jatuh', 'tanding', 'larang', 'umur', 'sidik', 'periksa', 'selenggara', 'tugas', 'kuat', 'id', 'kumpul', 'tunjuk', 'kutip', 'tetap', 'sangka', 'teliti', 'tetap', 'sangka', 'selenggara', 'lanjut', 'lasa', 'jalan', 'lasa', 'jalan', 'lasa', 'sepakat', 'baru', 'tinggal', 'derita', 'henti', 'jatuh', 'anggar', 'tanding', 'atur', 'undang', 'pah', 'sifat', 'sua', 'susun', 'mana', 'atur', 'buka', 'hening', 'dep', 'harap', 'e', 'pora', 'henti', 'selenggara', 'aman', 'tanding', 'butuh', 'temu']\n",
            "378\n"
          ]
        }
      ]
    },
    {
      "cell_type": "code",
      "source": [
        "if 'libat' in AKAR_KATA:\n",
        "  print('ada')"
      ],
      "metadata": {
        "id": "iOdKd2R_KJPh",
        "colab": {
          "base_uri": "https://localhost:8080/"
        },
        "outputId": "b23c1d05-7101-497e-e95d-6d50132d5935"
      },
      "execution_count": null,
      "outputs": [
        {
          "output_type": "stream",
          "name": "stdout",
          "text": [
            "ada\n"
          ]
        }
      ]
    },
    {
      "cell_type": "code",
      "source": [
        "# clean AKAR_KATA in case start again\n",
        "# AKAR_KATA = []"
      ],
      "metadata": {
        "id": "F3bcgZljT-1p"
      },
      "execution_count": null,
      "outputs": []
    },
    {
      "cell_type": "markdown",
      "source": [
        "## Visualize the text"
      ],
      "metadata": {
        "id": "wn5g00BEYllL"
      }
    },
    {
      "cell_type": "code",
      "source": [
        "import pandas as pd"
      ],
      "metadata": {
        "id": "dHJv61xaaMA2"
      },
      "execution_count": null,
      "outputs": []
    },
    {
      "cell_type": "code",
      "source": [
        "data = {'Kata awal' : len(words), 'Kata setelah stop word' : len(list_stop_words), 'Kata setelah Kamus' : len(list_not_in_kamus_words), 'Kata setelah infleksional suffiks': len(list_not_infleksional_suffiks), 'Kata setelah derivation suffiks': len(list_not_derivation_suffiks), 'Kata setelah derivation prefiks (Tidak ada di kamus)' : len(list_not_in_kamus), \"Akar Kata\" : len(AKAR_KATA) }\n",
        "data\n",
        "# data_df = pd.DataFrame(data=data)\n"
      ],
      "metadata": {
        "colab": {
          "base_uri": "https://localhost:8080/"
        },
        "id": "OhCGc6CNYpVI",
        "outputId": "af5faa09-6920-4619-a0a0-dd3dcb524c9a"
      },
      "execution_count": null,
      "outputs": [
        {
          "output_type": "execute_result",
          "data": {
            "text/plain": [
              "{'Kata awal': 991,\n",
              " 'Kata setelah stop word': 609,\n",
              " 'Kata setelah Kamus': 399,\n",
              " 'Kata setelah infleksional suffiks': 391,\n",
              " 'Kata setelah derivation suffiks': 361,\n",
              " 'Kata setelah derivation prefiks (Tidak ada di kamus)': 43,\n",
              " 'Akar Kata': 378}"
            ]
          },
          "metadata": {},
          "execution_count": 23
        }
      ]
    },
    {
      "cell_type": "code",
      "source": [
        "data_df = pd.DataFrame(data=[data])\n",
        "data_df"
      ],
      "metadata": {
        "colab": {
          "base_uri": "https://localhost:8080/",
          "height": 177
        },
        "id": "W9pTjIqZaFDQ",
        "outputId": "962fae89-02db-42db-f934-03c352bd4876"
      },
      "execution_count": null,
      "outputs": [
        {
          "output_type": "execute_result",
          "data": {
            "text/plain": [
              "   Kata awal  Kata setelah stop word  Kata setelah Kamus  \\\n",
              "0        991                     609                 399   \n",
              "\n",
              "   Kata setelah infleksional suffiks  Kata setelah derivation suffiks  \\\n",
              "0                                391                              361   \n",
              "\n",
              "   Kata setelah derivation prefiks (Tidak ada di kamus)  Akar Kata  \n",
              "0                                                 43           378  "
            ],
            "text/html": [
              "\n",
              "  <div id=\"df-242b881a-1b9d-4545-9594-ca5f09e62a4b\">\n",
              "    <div class=\"colab-df-container\">\n",
              "      <div>\n",
              "<style scoped>\n",
              "    .dataframe tbody tr th:only-of-type {\n",
              "        vertical-align: middle;\n",
              "    }\n",
              "\n",
              "    .dataframe tbody tr th {\n",
              "        vertical-align: top;\n",
              "    }\n",
              "\n",
              "    .dataframe thead th {\n",
              "        text-align: right;\n",
              "    }\n",
              "</style>\n",
              "<table border=\"1\" class=\"dataframe\">\n",
              "  <thead>\n",
              "    <tr style=\"text-align: right;\">\n",
              "      <th></th>\n",
              "      <th>Kata awal</th>\n",
              "      <th>Kata setelah stop word</th>\n",
              "      <th>Kata setelah Kamus</th>\n",
              "      <th>Kata setelah infleksional suffiks</th>\n",
              "      <th>Kata setelah derivation suffiks</th>\n",
              "      <th>Kata setelah derivation prefiks (Tidak ada di kamus)</th>\n",
              "      <th>Akar Kata</th>\n",
              "    </tr>\n",
              "  </thead>\n",
              "  <tbody>\n",
              "    <tr>\n",
              "      <th>0</th>\n",
              "      <td>991</td>\n",
              "      <td>609</td>\n",
              "      <td>399</td>\n",
              "      <td>391</td>\n",
              "      <td>361</td>\n",
              "      <td>43</td>\n",
              "      <td>378</td>\n",
              "    </tr>\n",
              "  </tbody>\n",
              "</table>\n",
              "</div>\n",
              "      <button class=\"colab-df-convert\" onclick=\"convertToInteractive('df-242b881a-1b9d-4545-9594-ca5f09e62a4b')\"\n",
              "              title=\"Convert this dataframe to an interactive table.\"\n",
              "              style=\"display:none;\">\n",
              "        \n",
              "  <svg xmlns=\"http://www.w3.org/2000/svg\" height=\"24px\"viewBox=\"0 0 24 24\"\n",
              "       width=\"24px\">\n",
              "    <path d=\"M0 0h24v24H0V0z\" fill=\"none\"/>\n",
              "    <path d=\"M18.56 5.44l.94 2.06.94-2.06 2.06-.94-2.06-.94-.94-2.06-.94 2.06-2.06.94zm-11 1L8.5 8.5l.94-2.06 2.06-.94-2.06-.94L8.5 2.5l-.94 2.06-2.06.94zm10 10l.94 2.06.94-2.06 2.06-.94-2.06-.94-.94-2.06-.94 2.06-2.06.94z\"/><path d=\"M17.41 7.96l-1.37-1.37c-.4-.4-.92-.59-1.43-.59-.52 0-1.04.2-1.43.59L10.3 9.45l-7.72 7.72c-.78.78-.78 2.05 0 2.83L4 21.41c.39.39.9.59 1.41.59.51 0 1.02-.2 1.41-.59l7.78-7.78 2.81-2.81c.8-.78.8-2.07 0-2.86zM5.41 20L4 18.59l7.72-7.72 1.47 1.35L5.41 20z\"/>\n",
              "  </svg>\n",
              "      </button>\n",
              "      \n",
              "  <style>\n",
              "    .colab-df-container {\n",
              "      display:flex;\n",
              "      flex-wrap:wrap;\n",
              "      gap: 12px;\n",
              "    }\n",
              "\n",
              "    .colab-df-convert {\n",
              "      background-color: #E8F0FE;\n",
              "      border: none;\n",
              "      border-radius: 50%;\n",
              "      cursor: pointer;\n",
              "      display: none;\n",
              "      fill: #1967D2;\n",
              "      height: 32px;\n",
              "      padding: 0 0 0 0;\n",
              "      width: 32px;\n",
              "    }\n",
              "\n",
              "    .colab-df-convert:hover {\n",
              "      background-color: #E2EBFA;\n",
              "      box-shadow: 0px 1px 2px rgba(60, 64, 67, 0.3), 0px 1px 3px 1px rgba(60, 64, 67, 0.15);\n",
              "      fill: #174EA6;\n",
              "    }\n",
              "\n",
              "    [theme=dark] .colab-df-convert {\n",
              "      background-color: #3B4455;\n",
              "      fill: #D2E3FC;\n",
              "    }\n",
              "\n",
              "    [theme=dark] .colab-df-convert:hover {\n",
              "      background-color: #434B5C;\n",
              "      box-shadow: 0px 1px 3px 1px rgba(0, 0, 0, 0.15);\n",
              "      filter: drop-shadow(0px 1px 2px rgba(0, 0, 0, 0.3));\n",
              "      fill: #FFFFFF;\n",
              "    }\n",
              "  </style>\n",
              "\n",
              "      <script>\n",
              "        const buttonEl =\n",
              "          document.querySelector('#df-242b881a-1b9d-4545-9594-ca5f09e62a4b button.colab-df-convert');\n",
              "        buttonEl.style.display =\n",
              "          google.colab.kernel.accessAllowed ? 'block' : 'none';\n",
              "\n",
              "        async function convertToInteractive(key) {\n",
              "          const element = document.querySelector('#df-242b881a-1b9d-4545-9594-ca5f09e62a4b');\n",
              "          const dataTable =\n",
              "            await google.colab.kernel.invokeFunction('convertToInteractive',\n",
              "                                                     [key], {});\n",
              "          if (!dataTable) return;\n",
              "\n",
              "          const docLinkHtml = 'Like what you see? Visit the ' +\n",
              "            '<a target=\"_blank\" href=https://colab.research.google.com/notebooks/data_table.ipynb>data table notebook</a>'\n",
              "            + ' to learn more about interactive tables.';\n",
              "          element.innerHTML = '';\n",
              "          dataTable['output_type'] = 'display_data';\n",
              "          await google.colab.output.renderOutput(dataTable, element);\n",
              "          const docLink = document.createElement('div');\n",
              "          docLink.innerHTML = docLinkHtml;\n",
              "          element.appendChild(docLink);\n",
              "        }\n",
              "      </script>\n",
              "    </div>\n",
              "  </div>\n",
              "  "
            ]
          },
          "metadata": {},
          "execution_count": 24
        }
      ]
    },
    {
      "cell_type": "code",
      "source": [
        "v_data = data_df.plot(kind='bar',figsize=(20,10))\n",
        "v_data.set_xlabel(\"Proses\")\n",
        "v_data.set_ylabel(\"Jumlah kata\")\n",
        "\n",
        "# plt.sublpot\n"
      ],
      "metadata": {
        "colab": {
          "base_uri": "https://localhost:8080/",
          "height": 408
        },
        "id": "8TuRj5v9aF34",
        "outputId": "7d5de57e-8c6e-499b-91ac-73adbe9c1746"
      },
      "execution_count": null,
      "outputs": [
        {
          "output_type": "execute_result",
          "data": {
            "text/plain": [
              "Text(0, 0.5, 'Jumlah kata')"
            ]
          },
          "metadata": {},
          "execution_count": 25
        },
        {
          "output_type": "display_data",
          "data": {
            "text/plain": [
              "<Figure size 1440x720 with 1 Axes>"
            ],
            "image/png": "[encoded data removed]"
          },
          "metadata": {
            "needs_background": "light"
          }
        }
      ]
    },
    {
      "cell_type": "markdown",
      "source": [
        "##Save text to txt file"
      ],
      "metadata": {
        "id": "XbR8EfMcKmPd"
      }
    },
    {
      "cell_type": "code",
      "source": [
        "with open('akar_kata_artikel.txt', 'w') as f:\n",
        "  for t in AKAR_KATA:\n",
        "    f.write(t + ' ')"
      ],
      "metadata": {
        "id": "HPtJiWInbb9e"
      },
      "execution_count": null,
      "outputs": []
    },
    {
      "cell_type": "code",
      "source": [
        "%ls"
      ],
      "metadata": {
        "colab": {
          "base_uri": "https://localhost:8080/"
        },
        "id": "sTaLtt5YL0oU",
        "outputId": "ad8e24e0-c834-4290-d206-f43a3d13947f"
      },
      "execution_count": null,
      "outputs": [
        {
          "output_type": "stream",
          "name": "stdout",
          "text": [
            "akar_kata_artikel.txt        kata-dasar-indonesia.txt  test1.txt\n",
            "id.stopwords.02.01.2016.txt  \u001b[0m\u001b[01;34msample_data\u001b[0m/              text_file.txt\n"
          ]
        }
      ]
    },
    {
      "cell_type": "code",
      "source": [
        "with open('akar_kata_artikel.txt', 'r') as f:\n",
        "  print(f.read())"
      ],
      "metadata": {
        "colab": {
          "base_uri": "https://localhost:8080/"
        },
        "id": "4K64UJe1MTsa",
        "outputId": "2638aecf-80e9-43c4-b28b-740286b16bf3"
      },
      "execution_count": null,
      "outputs": [
        {
          "output_type": "stream",
          "name": "stdout",
          "text": [
            "tragedi pintu sanksi hasil rapat tragedi pilu sejarah sepak bola nyawa akibat tragedi tragis laga liga skor suporter wasit peluit coba situasi air polisi massa air suporter sesak napas korban kabupaten malang timur korban tewas tragedi stadion tragedi sejarah sepak bola tragedi kompas pintu stadion menit hasil rapat perdana akar tragedi laga rampung pintu stadion komite wasit pintu stadion kendati komando pintu tugas fakta mepet pintu stadion statuta menit situasi stadion stadion panitia pintu stadion laga kadang peluit kadang menit kondisi investigasi sistem sidang ketua panitia hasil sidang tragedi denda juta sanksi ketua sesi konferensi virtual tuan rumah sisa liga musim laga kandang alias lokasi markas mesti denda hasil sidang klub panitia tuan rumah markas malang lokasi tragedi tahap polisi klub sanksi denda juta berat klub badan haris ketua aktif sepak bola humas tragedi tahap tim tragedi saksi anggota panitia stadion sepak bola tragedi ayah tahap alat bukti saksi ahli panitia esok tim independen fakta insiden tragis rapat perdana independen fakta insiden tragis rapat perdana akar tragedi korban dunia pidana tragedi rekomendasi sanksi stadion malang anggota akmal sinkronisasi regulasi elemen sepak bola regulasi teknis tim rencana bentuk koordinasi sekretaris laga liga prosesi cipta tragedi tim hasil presiden cepat target kompetisi liga presiden tim tagar informasi redaksi verifikasi akun aktivitas program pecah jarak teknis kerja rekomendasi komentar diri diri alas ratus lanjut lapang kendali lapor alas gerombol lapang hukum hukum tetap hukum hukum lingkung tinggal hati gabung pencar gabung pencar ratus hukum undang menang pilih lengkap bantu lengkap ikut tutup sisa kembang rusuh tiup libat ricuh tugas aman endal embak larang guna latih sinyalir sebab alam timbul nas sehat lasa capa besar baru putar buka tanding pasuk gelar buka tanding buka buka tepat suruh lasa hadir buka tanding tonton tum sa rusuh timbang buka timbang kadang sama buka nila aman baru putus tugas aman umur tiga lasa larang selenggara tanding tonton ain jarak bayar nila putus larang selenggara tanding tonton laksana id kena tiga ulang anggar jatuh tanding larang umur sidik periksa selenggara tugas kuat id kumpul tunjuk kutip tetap sangka teliti tetap sangka selenggara lanjut lasa jalan lasa jalan lasa sepakat baru tinggal derita henti jatuh anggar tanding atur undang pah sifat sua susun mana atur buka hening dep harap e pora henti selenggara aman tanding butuh temu \n"
          ]
        }
      ]
    },
    {
      "cell_type": "code",
      "source": [
        "%rm akar_kata_artikel  "
      ],
      "metadata": {
        "id": "r2RXDZPyMC2h",
        "colab": {
          "base_uri": "https://localhost:8080/"
        },
        "outputId": "6c5062ff-9d93-4109-fd92-90577847f9c0"
      },
      "execution_count": null,
      "outputs": [
        {
          "output_type": "stream",
          "name": "stdout",
          "text": [
            "rm: cannot remove 'akar_kata_artikel': No such file or directory\n"
          ]
        }
      ]
    },
    {
      "cell_type": "code",
      "source": [],
      "metadata": {
        "id": "PWU7oLSEMN4n"
      },
      "execution_count": null,
      "outputs": []
    }
  ]
}